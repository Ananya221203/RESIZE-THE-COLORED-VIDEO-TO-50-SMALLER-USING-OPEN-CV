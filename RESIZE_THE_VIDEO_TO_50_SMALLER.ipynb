{
  "nbformat": 4,
  "nbformat_minor": 0,
  "metadata": {
    "colab": {
      "provenance": [],
      "authorship_tag": "ABX9TyNY7PI5BAdgZhWNEcuM08pP",
      "include_colab_link": true
    },
    "kernelspec": {
      "name": "python3",
      "display_name": "Python 3"
    },
    "language_info": {
      "name": "python"
    }
  },
  "cells": [
    {
      "cell_type": "markdown",
      "metadata": {
        "id": "view-in-github",
        "colab_type": "text"
      },
      "source": [
        "<a href=\"https://colab.research.google.com/github/Ananya221203/RESIZE-THE-COLORED-VIDEO-TO-50-SMALLER-USING-OPEN-CV/blob/main/RESIZE_THE_VIDEO_TO_50_SMALLER.ipynb\" target=\"_parent\"><img src=\"https://colab.research.google.com/assets/colab-badge.svg\" alt=\"Open In Colab\"/></a>"
      ]
    },
    {
      "cell_type": "markdown",
      "source": [
        "**RESIZE THE VIDEO TO 50% SMALLER**"
      ],
      "metadata": {
        "id": "Lwgd0h0mEnmG"
      }
    },
    {
      "cell_type": "code",
      "execution_count": 2,
      "metadata": {
        "colab": {
          "base_uri": "https://localhost:8080/"
        },
        "id": "B8ZCvFkNEGq-",
        "outputId": "e0be030c-be06-4581-ed58-d8a26599a002"
      },
      "outputs": [
        {
          "output_type": "stream",
          "name": "stdout",
          "text": [
            "Resizing /content/_VIDEO.mp4 to 50% smaller...\n",
            "Processed frame 1031/1031\n",
            "Resizing completed.\n"
          ]
        }
      ],
      "source": [
        "import cv2\n",
        "\n",
        "def resize_video(input_video_path, output_video_path, scale_percent=50):\n",
        "    # Open the input video file\n",
        "    video_capture = cv2.VideoCapture(input_video_path)\n",
        "\n",
        "    # Get the video properties\n",
        "    frame_width = int(video_capture.get(cv2.CAP_PROP_FRAME_WIDTH))\n",
        "    frame_height = int(video_capture.get(cv2.CAP_PROP_FRAME_HEIGHT))\n",
        "    fps = int(video_capture.get(cv2.CAP_PROP_FPS))\n",
        "    total_frames = int(video_capture.get(cv2.CAP_PROP_FRAME_COUNT))\n",
        "\n",
        "    # Calculate new dimensions\n",
        "    new_width = int(frame_width * scale_percent / 100)\n",
        "    new_height = int(frame_height * scale_percent / 100)\n",
        "\n",
        "    # Define the codec and create VideoWriter object\n",
        "    fourcc = cv2.VideoWriter_fourcc(*'XVID')\n",
        "    out = cv2.VideoWriter(output_video_path, fourcc, fps, (new_width, new_height))\n",
        "\n",
        "    print(f\"Resizing {input_video_path} to {scale_percent}% smaller...\")\n",
        "\n",
        "    # Process each frame\n",
        "    frame_count = 0\n",
        "    while True:\n",
        "        ret, frame = video_capture.read()\n",
        "        if not ret:\n",
        "            break\n",
        "\n",
        "        # Resize frame\n",
        "        resized_frame = cv2.resize(frame, (new_width, new_height), interpolation=cv2.INTER_AREA)\n",
        "\n",
        "        # Write resized frame to output video\n",
        "        out.write(resized_frame)\n",
        "\n",
        "        frame_count += 1\n",
        "        print(f\"Processed frame {frame_count}/{total_frames}\", end='\\r')\n",
        "\n",
        "    print(\"\\nResizing completed.\")\n",
        "\n",
        "    # Release input and output video objects\n",
        "    video_capture.release()\n",
        "    out.release()\n",
        "    cv2.destroyAllWindows()\n",
        "\n",
        "if __name__ == \"__main__\":\n",
        "    input_video_path = '/content/_VIDEO.mp4'    # Replace with your input video file path\n",
        "    output_video_path = '/content/RESIZEDvideo.avi'  # Replace with your desired output video file path\n",
        "\n",
        "    resize_video(input_video_path, output_video_path, scale_percent=50)\n"
      ]
    }
  ]
}